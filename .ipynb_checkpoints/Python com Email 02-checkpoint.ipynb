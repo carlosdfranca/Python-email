{
 "cells": [
  {
   "cell_type": "markdown",
   "metadata": {},
   "source": [
    "# Integração Python com Gmail - Usando yagmail\n",
    "\n",
    "### 2 métodos principais\n",
    "\n",
    "- yagmail.smtp"
   ]
  },
  {
   "cell_type": "raw",
   "metadata": {},
   "source": [
    "usuario = yagmail.SMTP(user='usuario@gmail.com', password='senha')"
   ]
  },
  {
   "cell_type": "markdown",
   "metadata": {},
   "source": [
    "- .send"
   ]
  },
  {
   "cell_type": "raw",
   "metadata": {},
   "source": [
    "usuario.send(to='destinatario', subject='assunto', contents='conteúdo do email')"
   ]
  },
  {
   "cell_type": "markdown",
   "metadata": {},
   "source": [
    "### Enviando E-mail"
   ]
  },
  {
   "cell_type": "code",
   "execution_count": 2,
   "metadata": {},
   "outputs": [
    {
     "data": {
      "text/plain": [
       "{}"
      ]
     },
     "execution_count": 2,
     "metadata": {},
     "output_type": "execute_result"
    }
   ],
   "source": [
    "import yagmail\n",
    "\n",
    "usuario = yagmail.SMTP(user='carlosdudu258@gmail.com', password='7t0W!T&8Ofvb')\n",
    "usuario.send(to='carlosdudu369@gmail.com', subject='Meu primeiro e-mail no Python', contents='OOOOPA, consegui!')"
   ]
  },
  {
   "cell_type": "markdown",
   "metadata": {},
   "source": []
  },
  {
   "cell_type": "markdown",
   "metadata": {},
   "source": [
    "### Enviando E-mail com Anexo(s)"
   ]
  },
  {
   "cell_type": "code",
   "execution_count": 3,
   "metadata": {},
   "outputs": [
    {
     "data": {
      "text/plain": [
       "{}"
      ]
     },
     "execution_count": 3,
     "metadata": {},
     "output_type": "execute_result"
    }
   ],
   "source": [
    "usuario.send(to='carlosdudu369@gmail.com', subject='Relatório Financeiro', contents='Prezado Carlos, \\nSegue em anexo o relatório financeiro. \\nAbraços.', attachments='Financeiro.xlsx')"
   ]
  },
  {
   "cell_type": "markdown",
   "metadata": {},
   "source": [
    "### Cópia, mais de 1 destinatário e outras variações"
   ]
  },
  {
   "cell_type": "code",
   "execution_count": null,
   "metadata": {},
   "outputs": [],
   "source": [
    "usuario.send(to=['carlosdudu369@gmail.com', 'carlosdudu258@gmail.com'],cc='', bcc='', subject='Relatório Financeiro', contents='Prezado Carlos, \\nSegue em anexo o relatório financeiro. \\nAbraços.', attachments='Financeiro.xlsx')"
   ]
  },
  {
   "cell_type": "markdown",
   "metadata": {},
   "source": [
    "### Personalizando o texto do e-mail\n",
    "\n",
    "- Com Python normal"
   ]
  },
  {
   "cell_type": "code",
   "execution_count": 5,
   "metadata": {},
   "outputs": [
    {
     "data": {
      "text/plain": [
       "{}"
      ]
     },
     "execution_count": 5,
     "metadata": {},
     "output_type": "execute_result"
    }
   ],
   "source": [
    "# Primeira forma: -> Lista de frases\n",
    "nome= 'Carlão'\n",
    "# corpo_email = [\n",
    "#     f'Fala {nome}, Suave?',\n",
    "#     'Enviando o texto textando o modo de string por listas.',\n",
    "#     'Um grande abraço meu caro.'\n",
    "# ]\n",
    "# corpo_email = '\\n'.join(corpo_email)\n",
    "\n",
    "#Segunda forma: -> strindo com '''\n",
    "corpo_email = f'''Fala {nome}, Suave?\n",
    "Enviando o texto textando o modo de string por listas.\n",
    "Um grande abraço meu caro.'''\n",
    "\n",
    "usuario.send(to='carlosdudu369@gmail.com', subject='Segundo E-mail', contents=corpo_email)"
   ]
  },
  {
   "cell_type": "markdown",
   "metadata": {},
   "source": [
    "- Com HTML"
   ]
  },
  {
   "cell_type": "code",
   "execution_count": 6,
   "metadata": {},
   "outputs": [
    {
     "data": {
      "text/plain": [
       "{}"
      ]
     },
     "execution_count": 6,
     "metadata": {},
     "output_type": "execute_result"
    }
   ],
   "source": [
    "corpo_email='''<p>Fala <b>Carlão</b>, Suave?</p>\n",
    "<p> Enviando agora o teste de texto via <b>HTML</b></p>'''\n",
    "\n",
    "usuario.send(to='carlosdudu369@gmail.com', subject='Segundo E-mail', contents=corpo_email)"
   ]
  }
 ],
 "metadata": {
  "kernelspec": {
   "display_name": "Python 3 (ipykernel)",
   "language": "python",
   "name": "python3"
  },
  "language_info": {
   "codemirror_mode": {
    "name": "ipython",
    "version": 3
   },
   "file_extension": ".py",
   "mimetype": "text/x-python",
   "name": "python",
   "nbconvert_exporter": "python",
   "pygments_lexer": "ipython3",
   "version": "3.9.7"
  }
 },
 "nbformat": 4,
 "nbformat_minor": 4
}

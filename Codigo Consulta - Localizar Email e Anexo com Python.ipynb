{
 "cells": [
  {
   "cell_type": "markdown",
   "id": "46c01ee4",
   "metadata": {},
   "source": [
    "## Integrar o Python com o E-mail: "
   ]
  },
  {
   "cell_type": "code",
   "execution_count": 13,
   "id": "46d8e6fd",
   "metadata": {},
   "outputs": [],
   "source": [
    "from imap_tools import MailBox, AND\n",
    "\n",
    "login = 'carlos.eduardo@quaestoreducacao.com.br'\n",
    "senha = 'Quaestor@2021'\n",
    "\n",
    "meu_email = MailBox('mail.quaestoreducacao.com.br').login(login, senha)"
   ]
  },
  {
   "cell_type": "markdown",
   "id": "aa346105",
   "metadata": {},
   "source": [
    "### Pegar E-mails que foram enviados por um remetente específico: "
   ]
  },
  {
   "cell_type": "code",
   "execution_count": null,
   "id": "3b7fb0ab",
   "metadata": {},
   "outputs": [],
   "source": [
    "lista_emails = meu_email.fetch(AND(from_='andrezza@quaestoreducacao.com.br', to=login))\n",
    "for email in lista_emails:\n",
    "    print(email.date)\n",
    "    print(email.subject)\n",
    "    print(email.text)\n",
    "    print('=-=-'*29)"
   ]
  },
  {
   "cell_type": "markdown",
   "id": "92bbb54d",
   "metadata": {},
   "source": [
    "### Pegar Anexo de um e-mail: "
   ]
  },
  {
   "cell_type": "code",
   "execution_count": 14,
   "id": "c6feb13e",
   "metadata": {},
   "outputs": [],
   "source": [
    "lista_emails = meu_email.fetch(AND(from_='leandro.hortencio@quaestorinvestimentos.com.br', to=login))\n",
    "for email in lista_emails:\n",
    "    if len(email.attachments) > 0:\n",
    "        for anexo in email.attachments:\n",
    "            if 'ExtraçãoContatos' in anexo.filename:\n",
    "                informacoes_anexo = anexo.payload\n",
    "                with open(anexo.filename, 'wb') as arquivo_excel:\n",
    "                    arquivo_excel.write(informacoes_anexo)"
   ]
  }
 ],
 "metadata": {
  "kernelspec": {
   "display_name": "Python 3",
   "language": "python",
   "name": "python3"
  },
  "language_info": {
   "codemirror_mode": {
    "name": "ipython",
    "version": 3
   },
   "file_extension": ".py",
   "mimetype": "text/x-python",
   "name": "python",
   "nbconvert_exporter": "python",
   "pygments_lexer": "ipython3",
   "version": "3.9.7"
  }
 },
 "nbformat": 4,
 "nbformat_minor": 5
}
